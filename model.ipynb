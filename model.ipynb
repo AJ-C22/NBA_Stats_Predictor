{
 "cells": [
  {
   "cell_type": "code",
   "execution_count": 4,
   "metadata": {},
   "outputs": [],
   "source": [
    "import pandas as pd\n",
    "import numpy as np\n",
    "from sklearn.model_selection import train_test_split, GridSearchCV, cross_val_score, KFold\n",
    "from sklearn.pipeline import Pipeline\n",
    "from sklearn.preprocessing import OneHotEncoder, StandardScaler\n",
    "from sklearn.compose import ColumnTransformer\n",
    "from sklearn.metrics import mean_squared_error, r2_score\n",
    "from xgboost import XGBRegressor\n",
    "from category_encoders.target_encoder import TargetEncoder\n",
    "from mango.tuner import Tuner\n",
    "from scipy.stats import uniform"
   ]
  },
  {
   "cell_type": "code",
   "execution_count": 5,
   "metadata": {},
   "outputs": [],
   "source": [
    "\n",
    "df = pd.read_csv(\"2023-2024.csv\") \n",
    "df.columns = df.columns.str.strip()\n"
   ]
  },
  {
   "cell_type": "code",
   "execution_count": 6,
   "metadata": {},
   "outputs": [],
   "source": [
    "num_features = ['POINTS_5GAME_AVG', 'MINUTES_5GAME_AVG', 'REBOUNDS_5GAME_AVG', 'ASSISTS_5GAME_AVG',\n",
    "                'STEALS_5GAME_AVG', 'BLOCKS_5GAME_AVG', 'TEAM_E_OFF_RATING', 'TEAM_E_DEF_RATING', \n",
    "                'TEAM_E_PACE', 'OPP_E_OFF_RATING', 'OPP_E_DEF_RATING', 'OPP_E_PACE']\n",
    "\n",
    "cat_features = ['PLAYER_NAME', 'OPP_TEAM', 'COURT']"
   ]
  },
  {
   "cell_type": "code",
   "execution_count": 7,
   "metadata": {},
   "outputs": [],
   "source": [
    "y = df['POINTS']  \n",
    "\n",
    "X = df[num_features + cat_features]"
   ]
  },
  {
   "cell_type": "code",
   "execution_count": 8,
   "metadata": {},
   "outputs": [],
   "source": [
    "assert all(col in df.columns for col in num_features + cat_features), \"Some columns are missing!\""
   ]
  },
  {
   "cell_type": "code",
   "execution_count": 9,
   "metadata": {},
   "outputs": [],
   "source": [
    "preprocessor = ColumnTransformer(\n",
    "    transformers=[\n",
    "        ('num', StandardScaler(), num_features),\n",
    "        ('cat', TargetEncoder(), cat_features)  \n",
    "    ]\n",
    ")\n",
    "\n",
    "xgb_model = XGBRegressor(random_state=42)\n",
    "\n",
    "model_pipeline = Pipeline(steps=[\n",
    "    ('preprocessor', preprocessor),\n",
    "    ('regressor', xgb_model)\n",
    "])"
   ]
  },
  {
   "cell_type": "code",
   "execution_count": 10,
   "metadata": {},
   "outputs": [
    {
     "data": {
      "text/plain": [
       "Index(['PLAYER_NAME', 'MIN', 'POINTS', 'REBOUNDS', 'ASSISTS', 'STEALS',\n",
       "       'BLOCKS', 'USG_PCT', 'MINUTES_5GAME_AVG', 'POINTS_5GAME_AVG',\n",
       "       'REBOUNDS_5GAME_AVG', 'ASSISTS_5GAME_AVG', 'STEALS_5GAME_AVG',\n",
       "       'BLOCKS_5GAME_AVG', 'OPP_TEAM', 'COURT', 'BTB', 'TEAM_E_OFF_RATING',\n",
       "       'TEAM_E_DEF_RATING', 'TEAM_E_PACE', 'OPP_E_OFF_RATING',\n",
       "       'OPP_E_DEF_RATING', 'OPP_E_PACE'],\n",
       "      dtype='object')"
      ]
     },
     "execution_count": 10,
     "metadata": {},
     "output_type": "execute_result"
    }
   ],
   "source": [
    "df.columns"
   ]
  },
  {
   "cell_type": "code",
   "execution_count": 11,
   "metadata": {},
   "outputs": [],
   "source": [
    "param_grid = {\n",
    "    \"regressor__n_estimators\": [50, 100, 200, 500, 1000],\n",
    "    \"regressor__learning_rate\": [0.01, 0.05, 0.1, 0.2, 0.3],\n",
    "    \"regressor__max_depth\": [3, 6, 7, 10, 15, 20],\n",
    "    \"regressor__subsample\": [0.6, 0.7, 0.8, 0.9, 1.0],\n",
    "    \"regressor__colsample_bytree\": [0.6, 0.7, 0.8, 0.9, 1.0],\n",
    "    \"regressor__gamma\": [0, 0.05, 0.1, 0.2, 0.3],\n",
    "    \"regressor__min_child_weight\": [1, 2, 5, 10, 15],\n",
    "    \"regressor__max_leaves\": [31, 63, 127, 255],\n",
    "    \"regressor__scale_pos_weight\": [1, 5, 10, 100],\n",
    "    \"regressor__reg_lambda\": [0, 0.1, 1],\n",
    "    \"regressor__reg_alpha\": [0, 0.1, 1],\n",
    "    \"regressor__tree_method\": ['auto', 'hist', 'gpu_hist'],\n",
    "    \"regressor__booster\": ['gbtree', 'dart'],\n",
    "    \"regressor__n_jobs\": [-1]\n",
    "}\n",
    "\n",
    "\n",
    "grid_search = GridSearchCV(estimator=model_pipeline, \n",
    "                           param_grid=param_grid, \n",
    "                           cv=3, \n",
    "                           scoring=\"neg_mean_squared_error\", \n",
    "                           verbose=1)"
   ]
  },
  {
   "cell_type": "code",
   "execution_count": null,
   "metadata": {},
   "outputs": [
    {
     "name": "stdout",
     "output_type": "stream",
     "text": [
      "Fitting 3 folds for each of 81000000 candidates, totalling 243000000 fits\n"
     ]
    }
   ],
   "source": [
    "X_train, X_test, y_train, y_test = train_test_split(X, y, test_size=0.2, random_state=42)\n",
    "\n",
    "grid_search.fit(X_train, y_train)"
   ]
  },
  {
   "cell_type": "code",
   "execution_count": 110,
   "metadata": {},
   "outputs": [
    {
     "data": {
      "text/plain": [
       "{'regressor__colsample_bytree': 1.0,\n",
       " 'regressor__gamma': 0,\n",
       " 'regressor__learning_rate': 0.01,\n",
       " 'regressor__max_depth': 3,\n",
       " 'regressor__n_estimators': 500,\n",
       " 'regressor__subsample': 0.8}"
      ]
     },
     "execution_count": 110,
     "metadata": {},
     "output_type": "execute_result"
    }
   ],
   "source": [
    "grid_search.best_params_"
   ]
  },
  {
   "cell_type": "code",
   "execution_count": 111,
   "metadata": {},
   "outputs": [],
   "source": [
    "best_model = grid_search.best_estimator_\n",
    "y_pred = best_model.predict(X_test)"
   ]
  },
  {
   "cell_type": "code",
   "execution_count": 112,
   "metadata": {},
   "outputs": [
    {
     "name": "stdout",
     "output_type": "stream",
     "text": [
      "Mean Squared Error: 28.2972\n",
      "R-squared: 0.6571\n"
     ]
    }
   ],
   "source": [
    "mse = mean_squared_error(y_test, y_pred)\n",
    "print(f\"Mean Squared Error: {mse:.4f}\")\n",
    "\n",
    "# Calculate R-squared\n",
    "r2 = r2_score(y_test, y_pred)\n",
    "print(f\"R-squared: {r2:.4f}\")"
   ]
  }
 ],
 "metadata": {
  "kernelspec": {
   "display_name": "Python 3",
   "language": "python",
   "name": "python3"
  },
  "language_info": {
   "codemirror_mode": {
    "name": "ipython",
    "version": 3
   },
   "file_extension": ".py",
   "mimetype": "text/x-python",
   "name": "python",
   "nbconvert_exporter": "python",
   "pygments_lexer": "ipython3",
   "version": "3.13.1"
  }
 },
 "nbformat": 4,
 "nbformat_minor": 2
}
